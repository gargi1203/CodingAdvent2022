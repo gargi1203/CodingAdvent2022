{
 "cells": [
  {
   "cell_type": "code",
   "execution_count": null,
   "id": "6e01edd8",
   "metadata": {},
   "outputs": [
    {
     "ename": "",
     "evalue": "",
     "output_type": "error",
     "traceback": [
      "\u001b[1;31mRunning cells with 'Python 3.9.5 64-bit' requires ipykernel package.\n",
      "\u001b[1;31mRun the following command to install 'ipykernel' into the Python environment. \n",
      "\u001b[1;31mCommand: 'c:/users/asus/appdata/local/programs/python/python39/python.exe -m pip install ipykernel -U --user --force-reinstall'"
     ]
    }
   ],
   "source": [
    "elfie = []\n",
    "calz = []\n",
    "elfu = [] \n",
    "\n",
    "with open('input.txt') as file: \n",
    "    for i in file: \n",
    "        caluie = [line.strip() for line in file]\n"
   ]
  },
  {
   "cell_type": "code",
   "execution_count": 64,
   "id": "7335ea0f",
   "metadata": {},
   "outputs": [
    {
     "name": "stderr",
     "output_type": "stream",
     "text": [
      "IOPub data rate exceeded.\n",
      "The notebook server will temporarily stop sending output\n",
      "to the client in order to avoid crashing it.\n",
      "To change this limit, set the config variable\n",
      "`--NotebookApp.iopub_data_rate_limit`.\n",
      "\n",
      "Current values:\n",
      "NotebookApp.iopub_data_rate_limit=1000000.0 (bytes/sec)\n",
      "NotebookApp.rate_limit_window=3.0 (secs)\n",
      "\n"
     ]
    }
   ],
   "source": [
    "#give shit to the elf\n",
    "\n",
    "gangnaemstyle = ''\n",
    "for item in caluie:\n",
    "    if item != gangnaemstyle:\n",
    "        elfu.append(int(item))\n",
    "    print (elfu)\n",
    "#     if item == gangnaemstyle:\n",
    "#         elfie.append(elfu)\n",
    "#         elfu = []       "
   ]
  },
  {
   "cell_type": "code",
   "execution_count": 51,
   "id": "e39af164",
   "metadata": {},
   "outputs": [],
   "source": [
    "\n",
    "for elfu in elfie:\n",
    "    cal_thing = sum(elfu)\n",
    "    calz.append(cal_thing)\n",
    "    \n",
    "    "
   ]
  },
  {
   "cell_type": "code",
   "execution_count": 52,
   "id": "f8f15b7a",
   "metadata": {},
   "outputs": [
    {
     "name": "stdout",
     "output_type": "stream",
     "text": [
      "66487\n"
     ]
    }
   ],
   "source": [
    "print(max(calz))"
   ]
  },
  {
   "cell_type": "code",
   "execution_count": 53,
   "id": "4cc207b4",
   "metadata": {},
   "outputs": [
    {
     "name": "stdout",
     "output_type": "stream",
     "text": [
      "[5226, 16745, 18350, 19412, 20858, 20977, 21030, 23802, 24045, 25013, 25705, 25977, 27682, 28883, 28926, 29214, 29602, 29797, 29965, 29968, 30500, 31131, 31713, 32082, 32138, 32566, 32847, 32973, 33058, 33497, 33702, 34655, 35044, 35205, 35398, 35689, 35758, 35785, 35926, 36042, 36129, 36770, 37141, 37162, 37928, 37946, 39325, 39385, 39492, 39498, 39631, 39643, 39740, 40451, 40775, 40815, 40909, 40911, 40927, 41115, 41183, 41363, 41498, 41644, 41671, 41784, 41854, 42127, 42138, 42340, 42414, 42854, 43010, 43059, 43155, 43159, 43358, 43381, 43848, 43975, 44072, 44088, 44278, 44475, 44494, 44629, 44645, 44701, 44705, 44777, 45165, 45512, 45521, 45539, 45612, 45625, 45673, 45957, 46004, 46031, 46032, 46086, 46158, 46317, 46341, 46386, 46446, 46725, 46833, 47162, 47167, 47395, 47475, 47511, 47610, 47724, 47757, 48030, 48419, 48539, 48560, 48638, 48682, 48688, 48715, 48830, 48885, 48973, 49011, 49042, 49049, 49144, 49152, 49170, 49196, 49196, 49223, 49269, 49294, 49482, 49583, 49639, 49646, 49761, 49898, 50049, 50075, 50107, 50262, 50353, 50436, 50616, 50662, 50687, 51037, 51163, 51198, 51263, 51282, 51313, 51525, 51551, 51730, 51919, 52231, 52310, 52769, 52822, 52829, 52855, 52876, 52921, 52988, 53080, 53118, 53300, 53334, 53374, 53424, 53470, 53668, 53736, 53747, 53874, 53943, 54029, 54045, 54124, 54126, 54135, 54175, 54220, 54270, 54303, 54371, 54443, 54503, 54562, 54693, 54913, 55001, 55262, 55290, 55292, 55293, 55314, 55413, 55471, 55503, 55646, 55652, 55706, 55783, 55896, 55953, 55956, 56047, 56338, 56349, 56387, 56622, 56848, 56871, 56921, 56995, 57230, 57245, 57450, 57472, 57542, 57585, 57805, 58065, 58168, 58263, 58295, 58486, 58499, 58878, 59224, 60183, 60210, 60217, 60369, 60374, 61016, 61489, 61847, 62108, 62924, 65206, 65401, 65413, 66487]\n"
     ]
    }
   ],
   "source": [
    "calz.sort()\n",
    "print(calz)"
   ]
  },
  {
   "cell_type": "code",
   "execution_count": 62,
   "id": "2073e114",
   "metadata": {},
   "outputs": [
    {
     "name": "stdout",
     "output_type": "stream",
     "text": [
      "197301\n"
     ]
    }
   ],
   "source": [
    "elevessonaughty3 =calz[-1] +calz [-2] +calz [-3]\n",
    "print (elevessonaughty3)"
   ]
  },
  {
   "cell_type": "code",
   "execution_count": null,
   "id": "1233da88",
   "metadata": {},
   "outputs": [],
   "source": []
  },
  {
   "cell_type": "code",
   "execution_count": null,
   "id": "197b9aab",
   "metadata": {},
   "outputs": [],
   "source": []
  }
 ],
 "metadata": {
  "kernelspec": {
   "display_name": "Python 3.9.5 64-bit",
   "language": "python",
   "name": "python3"
  },
  "language_info": {
   "codemirror_mode": {
    "name": "ipython",
    "version": 3
   },
   "file_extension": ".py",
   "mimetype": "text/x-python",
   "name": "python",
   "nbconvert_exporter": "python",
   "pygments_lexer": "ipython3",
   "version": "3.9.5"
  },
  "vscode": {
   "interpreter": {
    "hash": "edff964b01bf851dbf692d389949777404d9e36f33f0d2bab26a9b88f9338f17"
   }
  }
 },
 "nbformat": 4,
 "nbformat_minor": 5
}
